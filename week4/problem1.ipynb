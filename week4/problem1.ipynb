{
  "cells": [
    {
      "cell_type": "markdown",
      "metadata": {
        "id": "b9T4BFoTkXvm"
      },
      "source": [
        "---\n",
        "# Welcome to CE880\n",
        "### This is your week-4 : Problem notebook\n",
        "\n",
        "For this problem set, we'll be using the Jupyter notebook and please upload this notebook to [Google Colab](https://colab.research.google.com/). \n",
        "\n",
        "### Task: Complete all the three questions given as follows:"
      ]
    },
    {
      "cell_type": "code",
      "execution_count": null,
      "metadata": {
        "id": "ZwnEsj2UkXvu"
      },
      "outputs": [],
      "source": [
        "# install sklearn package if you are using local computer and if you are using Google Coalb then skip this step\n",
        "!pip install -U scikit-learn"
      ]
    },
    {
      "cell_type": "code",
      "execution_count": 2,
      "metadata": {
        "id": "Bqxp-EuFkXvx"
      },
      "outputs": [],
      "source": [
        "import pandas as pd\n",
        "import numpy as np\n",
        "from sklearn.cluster import DBSCAN\n",
        "from sklearn.cluster import KMeans\n",
        "from sklearn.datasets import make_circles, make_moons\n",
        "from sklearn.metrics import adjusted_rand_score\n",
        "from sklearn.preprocessing import StandardScaler\n",
        "from sklearn.metrics import silhouette_score, adjusted_rand_score\n",
        "from sklearn.decomposition import PCA\n",
        "scaler = StandardScaler()"
      ]
    },
    {
      "cell_type": "markdown",
      "metadata": {
        "id": "nBiss7E3kXvy"
      },
      "source": [
        "---\n",
        "## Question 1: \n",
        "We have already loaded `moon` data for you using `make_moons` function. \n",
        "\n",
        "Write a code to perform `k-means` clustering on `scaled_features` variable and return `silhouette_score` as an output"
      ]
    },
    {
      "cell_type": "code",
      "execution_count": 23,
      "metadata": {
        "deletable": false,
        "nbgrader": {
          "cell_type": "code",
          "checksum": "bf58f0a2e32fa1a6922107b99db36c0f",
          "grade": false,
          "grade_id": "myScore_kmean_ans",
          "locked": false,
          "schema_version": 3,
          "solution": true,
          "task": false
        },
        "id": "3-pqpJ8FkXvz"
      },
      "outputs": [],
      "source": [
        "# Let's make two moons, where n is the number of samples\n",
        "features, true_labels = make_moons(n_samples=250, noise=0.05, random_state=42)\n",
        "# fit_transform() method is basically the combination of fit method and transform method, \n",
        "# it is equivalent to fit().transform(). This method performs fit and transform on the \n",
        "# input data at a single time and converts the data points. \n",
        "# If we use fit and transform separate when we need both then it \n",
        "# will decrease the efficiency of the model so we use fit_transform() \n",
        "# which will do both the work.\n",
        "scaled_features = scaler.fit_transform(features)\n",
        "myscore = []\n",
        "\n",
        "def myScore_kmean(scaled_features):\n",
        "    \"\"\"Write code to perform k-means clustering and print silhouette_score\"\"\"\n",
        "    # YOUR CODE HERE\n",
        "    km = KMeans(n_clusters=6, random_state=42)\n",
        "    km.fit_predict(scaled_features)\n",
        "    score = silhouette_score(scaled_features, km.labels_, metric='euclidean')#calculate the silhouette_score\n",
        "    return float('%.3f' %score)#Return Score value using float\n",
        "    raise NotImplementedError()"
      ]
    },
    {
      "cell_type": "code",
      "execution_count": 24,
      "metadata": {
        "deletable": false,
        "editable": false,
        "nbgrader": {
          "cell_type": "code",
          "checksum": "ff384726af44a533c03f314abed22cf8",
          "grade": true,
          "grade_id": "myScore_kmean_test",
          "locked": true,
          "points": 2,
          "schema_version": 3,
          "solution": false,
          "task": false
        },
        "id": "UtJsQMipkXv0"
      },
      "outputs": [],
      "source": [
        "# Check you solution by running this cell\n",
        "import math\n",
        "assert math.isclose(myScore_kmean(scaled_features), 0.5, rel_tol=0.10)"
      ]
    },
    {
      "cell_type": "markdown",
      "metadata": {
        "id": "_QuqYWbHkXv1"
      },
      "source": [
        "---\n",
        "## Question 2: \n",
        "\n",
        "Write a code to perform `DBSCAN` clustering algorithm on `scaled_features` and return `silhouette_score` as an output. Please set the `eps` = 0.2 and `min_samples` = 5"
      ]
    },
    {
      "cell_type": "code",
      "execution_count": 25,
      "metadata": {
        "deletable": false,
        "nbgrader": {
          "cell_type": "code",
          "checksum": "9460552de971c1962050fbad85b95457",
          "grade": false,
          "grade_id": "myScore_DBSCAN_ans",
          "locked": false,
          "schema_version": 3,
          "solution": true,
          "task": false
        },
        "id": "NnA7SANQkXv2"
      },
      "outputs": [],
      "source": [
        "\n",
        "# Let's make two moons, where n is the number of samples\n",
        "from sklearn.datasets import make_moons\n",
        "import numpy as np\n",
        "from sklearn.cluster import DBSCAN\n",
        "from sklearn import metrics\n",
        "import math\n",
        "features, true_labels =  make_moons(n_samples=250, noise=.1)\n",
        "\n",
        "def myScore_DBSCAN(scaled_features):\n",
        "    \"\"\"Write code to perform DBSCAN algorithm and print silhouette_score\"\"\"\n",
        "    # YOUR CODE HERE\n",
        "    db = DBSCAN(eps=0.2, min_samples=5).fit(scaled_features)\n",
        "    labels = db.labels_\n",
        "    score = silhouette_score(scaled_features, labels, metric='euclidean')#calculate the silhouette_score\n",
        "    return float('%.3f' %score)\n",
        "    raise NotImplementedError()"
      ]
    },
    {
      "cell_type": "code",
      "execution_count": 26,
      "metadata": {
        "deletable": false,
        "editable": false,
        "nbgrader": {
          "cell_type": "code",
          "checksum": "0535b08a016135b8ef1071ba22d9bbae",
          "grade": true,
          "grade_id": "myScore_DBSCAN_test",
          "locked": true,
          "points": 2,
          "schema_version": 3,
          "solution": false,
          "task": false
        },
        "id": "itWYAnfEkXv3"
      },
      "outputs": [],
      "source": [
        "# Check you solution by running this cell\n",
        "assert math.isclose(myScore_DBSCAN(scaled_features), 0.2, rel_tol=0.10)"
      ]
    },
    {
      "cell_type": "markdown",
      "metadata": {
        "id": "WIiiOnKukXv4"
      },
      "source": [
        "## Question 3: \n",
        "\n",
        "Complete this code perform `PCA`  on `iris data` and return `explained_variance_ratio_` as an output for the first two principal components (PCs)"
      ]
    },
    {
      "cell_type": "code",
      "execution_count": 27,
      "metadata": {
        "deletable": false,
        "nbgrader": {
          "cell_type": "code",
          "checksum": "dd82ba18e8d651946a4d57e7ad4c6ab6",
          "grade": false,
          "grade_id": "myPCA_ans",
          "locked": false,
          "schema_version": 3,
          "solution": true,
          "task": false
        },
        "id": "OFNPukGLkXv5"
      },
      "outputs": [],
      "source": [
        "import pandas as pd\n",
        "import numpy as np\n",
        "import pylab as pl\n",
        "import math\n",
        "from sklearn import datasets\n",
        "from sklearn.model_selection import train_test_split\n",
        "from sklearn.decomposition import PCA\n",
        "url = \"https://archive.ics.uci.edu/ml/machine-learning-databases/iris/iris.data\"\n",
        "# load dataset into Pandas DataFrame\n",
        "df = pd.read_csv(url, names=['sepal length','sepal width','petal length','petal width','target'])\n",
        "\n",
        "features = ['sepal length', 'sepal width', 'petal length', 'petal width']\n",
        "# Separating out the features\n",
        "x = df.loc[:, features].values\n",
        "# Separating out the target\n",
        "y = df.loc[:,'target'].values\n",
        "\n",
        "\n",
        "# Standardizing the features\n",
        "x = StandardScaler().fit_transform(x)\n",
        "\n",
        "x_train, x_test, y_train, y_test = train_test_split(x, y, test_size=0.2, stratify=y, random_state=0)\n",
        "from sklearn.preprocessing import StandardScaler\n",
        "sc = StandardScaler()\n",
        "x_train_std = sc.fit_transform(x_train)\n",
        "x_test_std = sc.transform(x_test)\n",
        "  \n",
        "def myPCA(x):\n",
        "    \"\"\"Complete this code return the explained variance ratio for the first two prinical \n",
        "    components after doing PCA on x \"\"\"\n",
        "    # YOUR CODE HERE\n",
        "    pca = PCA(n_components=2)\n",
        "    x_train_pca = pca.fit_transform(x)\n",
        "    #return pca explained variance ratio in list\n",
        "    return list(pca.explained_variance_ratio_)\n",
        "    raise NotImplementedError()"
      ]
    },
    {
      "cell_type": "code",
      "execution_count": 22,
      "metadata": {
        "deletable": false,
        "editable": false,
        "nbgrader": {
          "cell_type": "code",
          "checksum": "2e809b5a12f6124c9a5dd16363dce006",
          "grade": true,
          "grade_id": "myPCA_test",
          "locked": true,
          "points": 2,
          "schema_version": 3,
          "solution": false,
          "task": false
        },
        "id": "abJtd1e6kXv6"
      },
      "outputs": [],
      "source": [
        "# Check you solution by running this cell\n",
        "x= myPCA(x)\n",
        "y = [0.7277045209380135, 0.23030523267680633]\n",
        "np.testing.assert_allclose(x, y, rtol=1e-5, atol=0)\n"
      ]
    }
  ],
  "metadata": {
    "kernelspec": {
      "display_name": "Python 3",
      "language": "python",
      "name": "python3"
    },
    "language_info": {
      "codemirror_mode": {
        "name": "ipython",
        "version": 3
      },
      "file_extension": ".py",
      "mimetype": "text/x-python",
      "name": "python",
      "nbconvert_exporter": "python",
      "pygments_lexer": "ipython3",
      "version": "3.7.11"
    },
    "colab": {
      "provenance": []
    }
  },
  "nbformat": 4,
  "nbformat_minor": 0
}