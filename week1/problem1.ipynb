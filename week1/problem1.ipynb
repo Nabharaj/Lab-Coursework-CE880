{
  "cells": [
    {
      "cell_type": "markdown",
      "metadata": {
        "id": "p3cJhZ0J17zb"
      },
      "source": [
        "Before you turn this problem in, make sure everything runs as expected. First, **restart the kernel** (in the menubar, select Kernel$\\rightarrow$Restart) and then **run all cells** (in the menubar, select Cell$\\rightarrow$Run All).\n",
        "\n",
        "Make sure you fill in any place that says `YOUR CODE HERE` or \"YOUR ANSWER HERE\", as well as your name and collaborators below:"
      ]
    },
    {
      "cell_type": "code",
      "execution_count": null,
      "metadata": {
        "id": "Q46KNG2m17ze"
      },
      "outputs": [],
      "source": [
        "NAME = \"Nabharaj Sawant\"\n",
        "COLLABORATORS = \"2200686\""
      ]
    },
    {
      "cell_type": "markdown",
      "metadata": {
        "id": "2dXoH36j17zf"
      },
      "source": [
        "---"
      ]
    },
    {
      "cell_type": "markdown",
      "metadata": {
        "id": "--Pn6CQt17zf"
      },
      "source": [
        "---\n",
        "# Welcome to CE880\n",
        "### This is your week-1 : Problem 1 notebook\n",
        "\n",
        "For this problem set, we'll be using the Jupyter notebook and please upload this notebook to [Google Colab](https://colab.research.google.com/). \n"
      ]
    },
    {
      "cell_type": "markdown",
      "metadata": {
        "id": "tr2xdWKg17zf"
      },
      "source": [
        "---\n",
        "## Question 1:\n",
        "\n",
        "Write a function for Pythagorean theorem, or Pythagoras' theorem. Pythagorean is a fundamental relation in Euclidean geometry among the three sides of a right triangle. It states that the area of the square whose side is the hypotenuse (the side opposite the right angle) is equal to the sum of the areas of the squares on the other two sides. This theorem can be written as an equation relating the lengths of the legs a, b and the hypotenuse c, often called the Pythagorean equation:\n",
        "\n",
        "$a^2 + b^2 = c^2$\n",
        "\n",
        "Please write a function (code)to calculate the length of an unknown side of a right triangle, given two sides are known."
      ]
    },
    {
      "cell_type": "code",
      "execution_count": 22,
      "metadata": {
        "deletable": false,
        "nbgrader": {
          "cell_type": "code",
          "checksum": "ac8011dd9c42cd6349c23a492d6bc678",
          "grade": false,
          "grade_id": "myPythagorean_ans",
          "locked": false,
          "schema_version": 3,
          "solution": true
        },
        "id": "5ciWzeFL17zg"
      },
      "outputs": [],
      "source": [
        "import math\n",
        "def myPythagorean(x,y):\n",
        "    \"\"\"write a function (code)to calculate the length of an unknown side \n",
        "    of a right triangle, given two sides are known.\n",
        "      a\n",
        "    \n",
        "    \"\"\"\n",
        "    # YOUR CODE HERE\n",
        "    z=math.sqrt(x**2+y**2)\n",
        "    print(z)\n",
        "    return z\n",
        "\n",
        "    raise NotImplementedError()"
      ]
    },
    {
      "cell_type": "code",
      "execution_count": null,
      "metadata": {
        "colab": {
          "base_uri": "https://localhost:8080/"
        },
        "id": "j95UYGLr17zg",
        "outputId": "026f0c08-7089-4a65-87b3-b353af746c01"
      },
      "outputs": [
        {
          "output_type": "stream",
          "name": "stdout",
          "text": [
            "17.204650534085253\n"
          ]
        },
        {
          "output_type": "execute_result",
          "data": {
            "text/plain": [
              "17.204650534085253"
            ]
          },
          "metadata": {},
          "execution_count": 2
        }
      ],
      "source": [
        "myPythagorean(10,14)"
      ]
    },
    {
      "cell_type": "code",
      "execution_count": null,
      "metadata": {
        "deletable": false,
        "editable": false,
        "nbgrader": {
          "cell_type": "code",
          "checksum": "ffd29101785d4c8cd20929e048d5d80d",
          "grade": true,
          "grade_id": "myPythagorean_test",
          "locked": false,
          "points": 1,
          "schema_version": 3,
          "solution": false
        },
        "colab": {
          "base_uri": "https://localhost:8080/"
        },
        "id": "sRyU23Jz17zh",
        "outputId": "a5799d16-1114-4e58-b2bd-9c1288654110"
      },
      "outputs": [
        {
          "output_type": "stream",
          "name": "stdout",
          "text": [
            "3.605551275463989\n",
            "7.615773105863909\n"
          ]
        }
      ],
      "source": [
        "\"\"\"Check that squares returns the correct output for several inputs\"\"\"\n",
        "assert myPythagorean(3,2) == 3.605551275463989\n",
        "assert myPythagorean(7,3) == 7.615773105863909"
      ]
    },
    {
      "cell_type": "markdown",
      "metadata": {
        "id": "iCpbwIX517zh"
      },
      "source": [
        "---\n",
        "\n",
        "## Question 2:\n",
        "\n",
        "A `trapezoid` is a quadrilateral with two sides parallel. The `trapezoid` is equivalent to the British definition of the `trapezium`. An isosceles `trapezoid` is a `trapezoid` in which the base angles are equal so\n",
        "\n",
        "<img src=\"https://www.w3resource.com/w3r_images/python-math-image-exercise-3.svg\"\n",
        "     alt=\"Markdown Monster icon\"\n",
        "     style=\"float: left; margin-right: 10px;\" />\n",
        "     \n",
        "Please write a function (code)to calculate the area of trapezoid."
      ]
    },
    {
      "cell_type": "code",
      "execution_count": 23,
      "metadata": {
        "deletable": false,
        "nbgrader": {
          "cell_type": "code",
          "checksum": "0b5eb16a2aa5919b3bd20fa36c29d3c3",
          "grade": false,
          "grade_id": "areaofTrap_ans",
          "locked": false,
          "schema_version": 3,
          "solution": true
        },
        "id": "uB_f3JT_17zi"
      },
      "outputs": [],
      "source": [
        "def areaofTrap(base1, base2, height):\n",
        "    \"\"\"Compute the sum of the squares of numbers from 1 to n.\"\"\"\n",
        "    # YOUR CODE HERE\n",
        "    A=0.5*(base1+base2)*height\n",
        "    print(A)\n",
        "    return A\n",
        "    raise NotImplementedError()"
      ]
    },
    {
      "cell_type": "code",
      "execution_count": null,
      "metadata": {
        "colab": {
          "base_uri": "https://localhost:8080/"
        },
        "id": "Mi_wGDsW17zi",
        "outputId": "6d00a64e-df31-415e-f983-dda9fdf1348f"
      },
      "outputs": [
        {
          "output_type": "stream",
          "name": "stdout",
          "text": [
            "24.0\n"
          ]
        },
        {
          "output_type": "execute_result",
          "data": {
            "text/plain": [
              "24.0"
            ]
          },
          "metadata": {},
          "execution_count": 5
        }
      ],
      "source": [
        "areaofTrap(5, 3, 6)"
      ]
    },
    {
      "cell_type": "code",
      "execution_count": null,
      "metadata": {
        "deletable": false,
        "editable": false,
        "nbgrader": {
          "cell_type": "code",
          "checksum": "3b0bce7375a4cbc8a7a05c7968f99113",
          "grade": true,
          "grade_id": "areaofTrap_test",
          "locked": false,
          "points": 1,
          "schema_version": 3,
          "solution": false
        },
        "colab": {
          "base_uri": "https://localhost:8080/"
        },
        "id": "i6Sd3AH817zi",
        "outputId": "b126caed-775f-4954-b638-c0b8d2e05a0b"
      },
      "outputs": [
        {
          "output_type": "stream",
          "name": "stdout",
          "text": [
            "200.0\n",
            "150.0\n",
            "20.0\n"
          ]
        }
      ],
      "source": [
        "\"\"\"Check that areaofTrap returns the correct answer for various inputs.\"\"\"\n",
        "assert areaofTrap(10, 10, 20) == 200.0\n",
        "assert areaofTrap(5, 10, 20) == 150.0\n",
        "assert areaofTrap(5, 3, 5) == 20.0"
      ]
    },
    {
      "cell_type": "markdown",
      "metadata": {
        "id": "RG8wfH7W17zj"
      },
      "source": [
        "---\n",
        "## Question 3: \n",
        "\n",
        " Write a Python program to reverse a string. Example: Sample String: `1234xyz` Expected Output: `zyx4321`"
      ]
    },
    {
      "cell_type": "code",
      "execution_count": 24,
      "metadata": {
        "deletable": false,
        "nbgrader": {
          "cell_type": "code",
          "checksum": "98cb7a38e7c264c61d0ff0332d879772",
          "grade": false,
          "grade_id": "reversestring_ans",
          "locked": false,
          "schema_version": 3,
          "solution": true,
          "task": false
        },
        "id": "C1vY79as17zj"
      },
      "outputs": [],
      "source": [
        "def reverse_string(str1):\n",
        "    \"\"\"Write your code here to reverse the string\"\"\"\n",
        "    \n",
        "    # YOUR CODE HERE\n",
        "    return str1[::-1]\n",
        "    raise NotImplementedError()"
      ]
    },
    {
      "cell_type": "code",
      "execution_count": null,
      "metadata": {
        "colab": {
          "base_uri": "https://localhost:8080/",
          "height": 36
        },
        "id": "CCq35l9T17zj",
        "outputId": "8ce37db8-1fcd-45a3-ae27-239d13cceac6"
      },
      "outputs": [
        {
          "output_type": "execute_result",
          "data": {
            "text/plain": [
              "'088EC'"
            ],
            "application/vnd.google.colaboratory.intrinsic+json": {
              "type": "string"
            }
          },
          "metadata": {},
          "execution_count": 8
        }
      ],
      "source": [
        "reverse_string('CE880')"
      ]
    },
    {
      "cell_type": "code",
      "execution_count": null,
      "metadata": {
        "deletable": false,
        "editable": false,
        "nbgrader": {
          "cell_type": "code",
          "checksum": "219d61397ee1726d142cbd4348b06da3",
          "grade": true,
          "grade_id": "reversestring_test",
          "locked": true,
          "points": 1,
          "schema_version": 3,
          "solution": false,
          "task": false
        },
        "id": "_G8oG0Vz17zj"
      },
      "outputs": [],
      "source": [
        "\"\"\"Check that areaofTrap returns the correct answer for various inputs.\"\"\"\n",
        "assert reverse_string('Colchester') == 'retsehcloC'\n",
        "assert reverse_string('University') == 'ytisrevinU'\n",
        "assert reverse_string('Data Science') == 'ecneicS ataD'\n",
        "assert reverse_string('CE880') == '088EC'"
      ]
    },
    {
      "cell_type": "markdown",
      "metadata": {
        "id": "HE_STWsI17zk"
      },
      "source": [
        "## Question 4:\n",
        "Write a Python program to print the odd numbers from a given list and in ascending order.\n",
        "\n",
        "Sample List : `[1, 2, 3, 4, 5, 6, 7, 8, 9]` Expected Result : `[1, 3, 5, 7, 9]`"
      ]
    },
    {
      "cell_type": "code",
      "execution_count": null,
      "metadata": {
        "deletable": false,
        "nbgrader": {
          "cell_type": "code",
          "checksum": "869532d59efa0aa9b57a72f7c3fd7921",
          "grade": false,
          "grade_id": "odd_num_ans",
          "locked": false,
          "schema_version": 3,
          "solution": true,
          "task": false
        },
        "id": "T2N7U2qv17zk"
      },
      "outputs": [],
      "source": [
        "import numpy as np\n",
        "def odd_num(lst_1):\n",
        "  odd_list=[]\n",
        "  for num in lst_1:\n",
        "\n",
        "    if num % 2 != 0:\n",
        "      odd_list.append(num)\n",
        "      odd_list.sort()\n",
        "  return odd_list\n",
        "      \n",
        "\n",
        "    \n",
        "  raise NotImplementedError()"
      ]
    },
    {
      "cell_type": "code",
      "execution_count": null,
      "metadata": {
        "colab": {
          "base_uri": "https://localhost:8080/"
        },
        "id": "qtcul-uA17zk",
        "outputId": "2f41390e-0ecc-497f-d434-1c1ea394087c"
      },
      "outputs": [
        {
          "output_type": "execute_result",
          "data": {
            "text/plain": [
              "[3, 11, 17, 19]"
            ]
          },
          "metadata": {},
          "execution_count": 19
        }
      ],
      "source": [
        "odd_num([2, 3, 14, 17, 8, 19, 11, 14])"
      ]
    },
    {
      "cell_type": "code",
      "execution_count": null,
      "metadata": {
        "deletable": false,
        "editable": false,
        "nbgrader": {
          "cell_type": "code",
          "checksum": "166f8b8866a51e8182926e8083822380",
          "grade": true,
          "grade_id": "odd_num_test",
          "locked": true,
          "points": 1,
          "schema_version": 3,
          "solution": false,
          "task": false
        },
        "id": "sVU7RW-y17zk"
      },
      "outputs": [],
      "source": [
        "assert odd_num([1, 2, 3, 4, 6, 7, 8, 9]) == [1, 3, 7, 9]\n",
        "assert odd_num([2, 3, 4, 7, 8, 9, 11, 14]) == [3, 7, 9, 11]\n",
        "assert odd_num([2, 3, 14, 17, 8, 19, 11, 14]) == [ 3, 11, 17, 19]"
      ]
    },
    {
      "cell_type": "markdown",
      "metadata": {
        "id": "rHsznbyb17zk"
      },
      "source": [
        "## Question 5:\n",
        "Write a Python function to create and print a list where the values are square of numbers between `1` and `n`, where `n` is user defined number: Example `sqr_values(4) == [1, 4, 9]`"
      ]
    },
    {
      "cell_type": "code",
      "execution_count": 59,
      "metadata": {
        "deletable": false,
        "nbgrader": {
          "cell_type": "code",
          "checksum": "5df07d41d1fe24c9357fdc4885a57efd",
          "grade": false,
          "grade_id": "sqr_values_ans",
          "locked": false,
          "schema_version": 3,
          "solution": true,
          "task": false
        },
        "id": "bSM9d8TJ17zk"
      },
      "outputs": [],
      "source": [
        "def sqr_values(n):\n",
        " \n",
        "  \"\"\"Write a Python program to print the square of numbers between 1 and `n`\"\"\"\n",
        "  \n",
        "    # YOUR CODE HERE\n",
        " \n",
        "  \n",
        "  sqr_list=[a**2 for a in range(1, n)]\n",
        "   \n",
        "  return sqr_list\n",
        "\n",
        "\n",
        "\t\t\n",
        "\n",
        "\n",
        "\n",
        "  raise NotImplementedError()"
      ]
    },
    {
      "cell_type": "code",
      "execution_count": 60,
      "metadata": {
        "id": "AuzMtZNm17zk",
        "colab": {
          "base_uri": "https://localhost:8080/"
        },
        "outputId": "d8c4c214-c425-498e-c179-2250237387d3"
      },
      "outputs": [
        {
          "output_type": "execute_result",
          "data": {
            "text/plain": [
              "[1, 4, 9]"
            ]
          },
          "metadata": {},
          "execution_count": 60
        }
      ],
      "source": [
        "sqr_values(4)"
      ]
    },
    {
      "cell_type": "code",
      "execution_count": 61,
      "metadata": {
        "deletable": false,
        "editable": false,
        "nbgrader": {
          "cell_type": "code",
          "checksum": "f23bc7d9c871aef82903c5edb35a39ec",
          "grade": true,
          "grade_id": "sqr_values_test",
          "locked": true,
          "points": 1,
          "schema_version": 3,
          "solution": false,
          "task": false
        },
        "id": "fJnFL9kd17zl"
      },
      "outputs": [],
      "source": [
        "\"\"\"Check that sqr_values returns the correct answer for various inputs.\"\"\"\n",
        "assert sqr_values(4) == [1, 4, 9]\n",
        "assert sqr_values(8) == [1, 4, 9, 16, 25, 36, 49]\n",
        "assert sqr_values(9) == [1, 4, 9, 16, 25, 36, 49, 64]\n",
        "assert sqr_values(11) == [1, 4, 9, 16, 25, 36, 49, 64, 81, 100]"
      ]
    },
    {
      "cell_type": "markdown",
      "metadata": {
        "id": "bkjnFMVP17zl"
      },
      "source": [
        "## Question 6: \n",
        "Write a Python program to generate all combinations of string with r length subsequences of elements from the input iterable.\n",
        "\n",
        "A combination is a mathematical technique that determines the number of possible arrangements in a collection of items where the order of the selection does not matter. In combinations, you can select the items in any order.\n",
        "\n",
        "Examples: comb_list('ABCD', 2) = [('A', 'B'), ('A', 'C'), ('A', 'D'), ('B', 'C'), ('B', 'D'), ('C', 'D')]"
      ]
    },
    {
      "cell_type": "code",
      "execution_count": 28,
      "metadata": {
        "deletable": false,
        "nbgrader": {
          "cell_type": "code",
          "checksum": "931a8c417f94bd7376d5a288ea994ea5",
          "grade": false,
          "grade_id": "comb_ans",
          "locked": false,
          "schema_version": 3,
          "solution": true,
          "task": false
        },
        "id": "gMdSYBo917zl"
      },
      "outputs": [],
      "source": [
        "\n",
        "    \n",
        "    # YOUR CODE HERE\n",
        "import itertools\n",
        "def comb_list(str_inp,r):\n",
        "  return list(itertools.combinations(str_inp, r))\n",
        "  raise NotImplementedError()"
      ]
    },
    {
      "cell_type": "code",
      "execution_count": 26,
      "metadata": {
        "id": "nW6QmJSE17zl",
        "colab": {
          "base_uri": "https://localhost:8080/"
        },
        "outputId": "d021a968-3120-4fec-86b8-993d7e8c0524"
      },
      "outputs": [
        {
          "output_type": "execute_result",
          "data": {
            "text/plain": [
              "[('A', 'B'), ('A', 'C'), ('A', 'D'), ('B', 'C'), ('B', 'D'), ('C', 'D')]"
            ]
          },
          "metadata": {},
          "execution_count": 26
        }
      ],
      "source": [
        "comb_list('ABCD',2)"
      ]
    },
    {
      "cell_type": "code",
      "execution_count": 27,
      "metadata": {
        "deletable": false,
        "editable": false,
        "nbgrader": {
          "cell_type": "code",
          "checksum": "0d600eabaac9cedd40f8a7b8e6dcb085",
          "grade": true,
          "grade_id": "comb_test",
          "locked": true,
          "points": 1,
          "schema_version": 3,
          "solution": false,
          "task": false
        },
        "id": "X_PZxn6I17zl"
      },
      "outputs": [],
      "source": [
        "assert comb_list('ABC',2) == [('A', 'B'), ('A', 'C'), ('B', 'C')]\n",
        "assert comb_list('MNOP',3) == [('M', 'N', 'O'), ('M', 'N', 'P'), ('M', 'O', 'P'), ('N', 'O', 'P')]"
      ]
    },
    {
      "cell_type": "code",
      "execution_count": null,
      "metadata": {
        "id": "HN-7OJ1q17zl"
      },
      "outputs": [],
      "source": []
    }
  ],
  "metadata": {
    "kernelspec": {
      "display_name": "Python 3",
      "language": "python",
      "name": "python3"
    },
    "language_info": {
      "codemirror_mode": {
        "name": "ipython",
        "version": 3
      },
      "file_extension": ".py",
      "mimetype": "text/x-python",
      "name": "python",
      "nbconvert_exporter": "python",
      "pygments_lexer": "ipython3",
      "version": "3.7.10"
    },
    "colab": {
      "provenance": []
    }
  },
  "nbformat": 4,
  "nbformat_minor": 0
}